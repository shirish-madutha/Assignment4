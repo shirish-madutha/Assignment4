{
 "cells": [
  {
   "cell_type": "code",
   "execution_count": 10,
   "id": "c32f1a21-f7bd-4c6f-84aa-82e2c70b63ee",
   "metadata": {},
   "outputs": [
    {
     "data": {
      "text/plain": [
       "('shirish', 19, 'shirishmadutha@gmail.com')"
      ]
     },
     "execution_count": 10,
     "metadata": {},
     "output_type": "execute_result"
    }
   ],
   "source": [
    "\"\"\" Q1. Explain Class and Object with respect to Object-Oriented Programming. Give a suitable example. \"\"\"\n",
    "\n",
    "# Answer\n",
    "\"\"\" In Object-Oriented Programming (OOP), a class is a blueprint or a template that defines the properties and behavior of objects. \n",
    "An object is an instance of a class. It contains values that define its state and methods that define its behavior. \"\"\"\n",
    "\n",
    "class A:\n",
    "    def __init__(self,name,id,email):\n",
    "        self.name=name\n",
    "        self.id=id\n",
    "        self.email=email\n",
    "    def return_details(self):\n",
    "        return self.name,self.id,self.email\n",
    "\n",
    "shiry=A(\"shirish\",19,\"shirishmadutha@gmail.com\")\n",
    "shiry.return_details()"
   ]
  },
  {
   "cell_type": "code",
   "execution_count": 23,
   "id": "ad41bfb6-8bc8-42dc-8e0c-f3b392e97b6c",
   "metadata": {},
   "outputs": [
    {
     "data": {
      "text/plain": [
       "' The four pillars of Object-Oriented Programming (OOP) are:\\n\\nEncapsulation: This refers to the bundling of data and methods that operate on that data within a single unit, called a class. \\nIt allows us to hide the internal workings of a class and expose only the necessary information to the outside world.\\n\\nAbstraction: This refers to the process of identifying the essential features of an object or a system and ignoring the rest. \\nIt allows us to focus on the important aspects of an object or a system and abstract away the complexity.\\n\\nInheritance: This refers to the mechanism of creating a new class from an existing class, where the new class inherits the properties and methods of the existing class. \\nIt allows us to reuse code and build upon existing classes to create new classes.\\n\\nPolymorphism: This refers to the ability of objects to take on different forms or behave in different ways depending on the context. \\nIt allows us to write code that can work with objects of different classes and types in a uniform way. '"
      ]
     },
     "execution_count": 23,
     "metadata": {},
     "output_type": "execute_result"
    }
   ],
   "source": [
    "\"\"\" Q2. Name the four pillars of OOPs. \"\"\"\n",
    "\n",
    "# Answer\n",
    "\"\"\" The four pillars of Object-Oriented Programming (OOP) are:\n",
    "\n",
    "Encapsulation: This refers to the bundling of data and methods that operate on that data within a single unit, called a class. \n",
    "It allows us to hide the internal workings of a class and expose only the necessary information to the outside world.\n",
    "\n",
    "Abstraction: This refers to the process of identifying the essential features of an object or a system and ignoring the rest. \n",
    "It allows us to focus on the important aspects of an object or a system and abstract away the complexity.\n",
    "\n",
    "Inheritance: This refers to the mechanism of creating a new class from an existing class, where the new class inherits the properties and methods of the existing class. \n",
    "It allows us to reuse code and build upon existing classes to create new classes.\n",
    "\n",
    "Polymorphism: This refers to the ability of objects to take on different forms or behave in different ways depending on the context. \n",
    "It allows us to write code that can work with objects of different classes and types in a uniform way. \"\"\""
   ]
  },
  {
   "cell_type": "code",
   "execution_count": 26,
   "id": "ffb82005-3c67-49cc-8f2a-bf34e8b8f631",
   "metadata": {},
   "outputs": [
    {
     "name": "stdout",
     "output_type": "stream",
     "text": [
      "('John', 30, 'Male')\n",
      "('Alice', 25, 'Female')\n"
     ]
    }
   ],
   "source": [
    "\"\"\" Q3. Explain why the __init__() function is used. Give a suitable example. \"\"\"\n",
    "\n",
    "class Person:\n",
    "    def __init__(self, name, age, gender):\n",
    "        self.name = name\n",
    "        self.age = age\n",
    "        self.gender = gender\n",
    "        \n",
    "    def return_details(self):\n",
    "        return self.name,self.age,self.gender\n",
    "\n",
    "person1 = Person(\"John\", 30, \"Male\")\n",
    "person2 = Person(\"Alice\", 25, \"Female\")\n",
    "\n",
    "print(person1.return_details())\n",
    "print(person2.return_details())"
   ]
  },
  {
   "cell_type": "code",
   "execution_count": 27,
   "id": "a5716f49-965d-4104-90ef-726b1dd5d1da",
   "metadata": {},
   "outputs": [
    {
     "data": {
      "text/plain": [
       "\" In Object-Oriented Programming (OOP), the self keyword is used to refer to the object that is currently being worked on. \\nIt is a reference to the instance of the class that we are working with.\\n\\nWhen we create an object from a class, the object is an instance of that class. \\nThe self keyword is used to refer to the instance of the class that is being created or accessed. \\nIt allows us to access the object's properties and methods. \""
      ]
     },
     "execution_count": 27,
     "metadata": {},
     "output_type": "execute_result"
    }
   ],
   "source": [
    "\"\"\" Q4. Why self is used in OOPs? \"\"\"\n",
    "\n",
    "# Answer\n",
    "\"\"\" In Object-Oriented Programming (OOP), the self keyword is used to refer to the object that is currently being worked on. \n",
    "It is a reference to the instance of the class that we are working with.\n",
    "\n",
    "When we create an object from a class, the object is an instance of that class. \n",
    "The self keyword is used to refer to the instance of the class that is being created or accessed. \n",
    "It allows us to access the object's properties and methods. \"\"\""
   ]
  },
  {
   "cell_type": "code",
   "execution_count": null,
   "id": "47b0625b-7d34-47e6-97fc-1cadbfdd1c19",
   "metadata": {},
   "outputs": [],
   "source": [
    "\"\"\" Q5. What is inheritance? Give an example for each type of inheritance. \"\"\"\n",
    "\n",
    "# Answer\n",
    "\"\"\" Inheritance is a mechanism in Object-Oriented Programming (OOP) where a new class is created from \n",
    "an existing class, inheriting the properties and methods of the existing class. \n",
    "The new class is called the child or derived class, and the existing class is called the parent or base class.\n",
    "\n",
    "Inheritance allows us to reuse code and build upon existing classes to create new classes. It is one of the fundamental concepts of OOP.\n",
    "\n",
    "There are four types of inheritance in Python:\n",
    "\n",
    "1. Single inheritance: This is when a new class is created from a single parent class. \n",
    "The child class inherits all the properties and methods of the parent class. \"\"\"\n",
    "\n",
    "# Example :\n",
    "\n",
    "class Vehicle:\n",
    "    def __init__(self, name, color):\n",
    "        self.name = name\n",
    "        self.color = color\n",
    "\n",
    "    def info(self):\n",
    "        print(f\"I am a {self.color} {self.name}.\")\n",
    "\n",
    "class Car(Vehicle):\n",
    "    def __init__(self, name, color, brand):\n",
    "        super().__init__(name, color)\n",
    "        self.brand = brand\n",
    "\n",
    "    def info(self):\n",
    "        super().info()\n",
    "        print(f\"I am a {self.brand} car.\")\n",
    "\n",
    "my_car = Car(\"sedan\", \"blue\", \"Toyota\")\n",
    "my_car.info()\n",
    "\n",
    "# 2. Multiple inheritance: This is when a new class is created from multiple parent classes. \n",
    "# The child class inherits all the properties and methods of all the parent classes.\n",
    "\n",
    "# Example:\n",
    "\n",
    "class Animal:\n",
    "    def __init__(self, name):\n",
    "        self.name = name\n",
    "\n",
    "    def eat(self):\n",
    "        print(f\"{self.name} is eating.\")\n",
    "\n",
    "class Flyable:\n",
    "    def fly(self):\n",
    "        print(f\"{self.name} is flying.\")\n",
    "\n",
    "class Bird(Animal, Flyable):\n",
    "    def __init__(self, name):\n",
    "        super().__init__(name)\n",
    "\n",
    "    def info(self):\n",
    "        print(f\"I am a bird named {self.name}.\")\n",
    "\n",
    "my_bird = Bird(\"sparrow\")\n",
    "my_bird.info()\n",
    "my_bird.eat()\n",
    "my_bird.fly()\n",
    "\n",
    "# 3. Multi-level inheritance: This is when a new class is created from a child class, which is itself derived from a parent class. The child class inherits all the properties and methods of the parent class and the parent of the parent class.\n",
    "\n",
    "Example:\n",
    "# \n",
    "python\n",
    "Copy code\n",
    "class Animal:\n",
    "    def __init__(self, name):\n",
    "        self.name = name\n",
    "\n",
    "    def eat(self):\n",
    "        print(f\"{self.name} is eating.\")\n",
    "\n",
    "class Mammal(Animal):\n",
    "    def __init__(self, name, color):\n",
    "        super().__init__(name)\n",
    "        self.color = color\n",
    "\n",
    "    def info(self):\n",
    "        print(f\"I am a {self.color} {self.name} mammal.\")\n",
    "\n",
    "class Dog(Mammal):\n",
    "    def __init__(self, name, color, breed):\n",
    "        super().__init__(name, color)\n",
    "        self.breed = breed\n",
    "\n",
    "    def info(self):\n",
    "        super().info()\n",
    "        print(f\"I am a {self.breed} dog.\")\n",
    "\n",
    "my_dog = Dog(\"poodle\", \"white\", \"miniature\")\n",
    "my_dog.info()\n",
    "my_dog.eat()"
   ]
  }
 ],
 "metadata": {
  "kernelspec": {
   "display_name": "Python 3 (ipykernel)",
   "language": "python",
   "name": "python3"
  },
  "language_info": {
   "codemirror_mode": {
    "name": "ipython",
    "version": 3
   },
   "file_extension": ".py",
   "mimetype": "text/x-python",
   "name": "python",
   "nbconvert_exporter": "python",
   "pygments_lexer": "ipython3",
   "version": "3.10.8"
  }
 },
 "nbformat": 4,
 "nbformat_minor": 5
}
